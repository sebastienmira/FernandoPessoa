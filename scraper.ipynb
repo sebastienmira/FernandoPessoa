{
 "cells": [
  {
   "cell_type": "code",
   "execution_count": 5,
   "metadata": {},
   "outputs": [],
   "source": [
    "import requests\n",
    "from bs4 import BeautifulSoup\n"
   ]
  },
  {
   "cell_type": "code",
   "execution_count": 6,
   "metadata": {},
   "outputs": [
    {
     "name": "stdout",
     "output_type": "stream",
     "text": [
      "No 0 : Status 404\n",
      "No 1 : Status 404\n",
      "No 2 : Status 404\n",
      "No 3 : Status 404\n",
      "4\n",
      "5\n",
      "6\n",
      "7\n",
      "8\n",
      "9\n"
     ]
    }
   ],
   "source": [
    "texts = []\n",
    "\n",
    "for i in range(10):\n",
    "    url = f'http://arquivopessoa.net/textos/{i}'\n",
    "    page = requests.get(url)\n",
    "    if page.status_code == 200:\n",
    "        texts.append(i)\n",
    "        print(i)\n",
    "    else:\n",
    "        print(f'No {i} : Status {page.status_code}')"
   ]
  },
  {
   "cell_type": "code",
   "execution_count": 14,
   "metadata": {},
   "outputs": [
    {
     "name": "stdout",
     "output_type": "stream",
     "text": [
      "Ricardo Reis\n",
      "Diana através dos ramos\n",
      "\n"
     ]
    }
   ],
   "source": [
    "url = f'http://arquivopessoa.net/textos/4'\n",
    "page = requests.get(url)\n",
    "parser = BeautifulSoup(page.content, 'html.parser')\n",
    "\n",
    "author = parser.find('div', class_='autor').text\n",
    "title = parser.find('h1', class_='titulo-texto').text\n",
    "print(author)\n",
    "print(title)"
   ]
  },
  {
   "cell_type": "code",
   "execution_count": 19,
   "metadata": {},
   "outputs": [
    {
     "data": {
      "text/plain": [
       "{'author': 'Ricardo Reis',\n",
       " 'title': 'Diana através dos ramos\\n',\n",
       " 'text': '\\nDiana através dos ramos\\nEspreita a vinda de Endymion\\nEndymion que nunca vem,\\nEndymion, Endymion,\\nLá longe na floresta…\\nE a sua voz chamando\\nExclama através dos ramos\\nEndymion, Endymion…\\n\\nAssim choram os deuses…\\n'}"
      ]
     },
     "execution_count": 19,
     "metadata": {},
     "output_type": "execute_result"
    }
   ],
   "source": [
    "author = parser.find('div', class_='autor').text\n",
    "title = parser.find('h1', class_='titulo-texto').text\n",
    "text = parser.find('div', class_='texto-poesia').text\n",
    "\n",
    "data = {\n",
    "    'author': author,\n",
    "    'title': title,\n",
    "    'text': text\n",
    "}\n",
    "\n",
    "data"
   ]
  },
  {
   "cell_type": "code",
   "execution_count": 22,
   "metadata": {},
   "outputs": [
    {
     "data": {
      "text/plain": [
       "'Ricardo Reis'"
      ]
     },
     "execution_count": 22,
     "metadata": {},
     "output_type": "execute_result"
    }
   ],
   "source": [
    "data['author']"
   ]
  },
  {
   "cell_type": "code",
   "execution_count": null,
   "metadata": {},
   "outputs": [],
   "source": []
  }
 ],
 "metadata": {
  "kernelspec": {
   "display_name": "Python 3",
   "language": "python",
   "name": "python3"
  },
  "language_info": {
   "codemirror_mode": {
    "name": "ipython",
    "version": 3
   },
   "file_extension": ".py",
   "mimetype": "text/x-python",
   "name": "python",
   "nbconvert_exporter": "python",
   "pygments_lexer": "ipython3",
   "version": "3.10.12"
  }
 },
 "nbformat": 4,
 "nbformat_minor": 2
}
