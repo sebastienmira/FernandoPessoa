{
 "cells": [
  {
   "cell_type": "code",
   "execution_count": null,
   "metadata": {},
   "outputs": [],
   "source": [
    "#Used to create dataset txt files.\n",
    "\n",
    "import json\n",
    "\n",
    "with open('texts.json', 'r') as data:\n",
    "    texts = json.load(data)\n",
    "\n",
    "#this can be a good start, create a long text with all the dataset formated as author, title and text.\n",
    "#full_text = \"\" # # create a big string that joins all texts with format author, title, text\n",
    "#poems = \"\" # create a big string that joins the poems with format author, title, text\n",
    "\n",
    "#for text in texts:\n",
    "#    if text['text_type']=='poem':\n",
    "#        poems += text['author'] + '\\n' + text['title'] + text['text'] + 2*'\\n'  #+ '<end>' #added end token to know when to stop sampling\n",
    "#    full_text += text['author'] + '\\n' + text['title'] + text['text'] + 2*'\\n'\n",
    "\n",
    "#with open('full_work.txt', 'w') as f:\n",
    "#    f.write(full_text.replace('\\xa0', ' '))#replaces non-breaking spaces as normal spaces\n",
    "\n",
    "#with open('poems.txt', 'w')as f:\n",
    "#    f.write(poems.replace('\\xa0', ' '))#replaces non-breaking spaces as normal spaces\n"
   ]
  },
  {
   "cell_type": "code",
   "execution_count": 7,
   "metadata": {},
   "outputs": [],
   "source": [
    "with open('full_work.txt', 'r') as f:\n",
    "    full_work = f.read()\n",
    "\n",
    "with open('poems.txt', 'r') as f:\n",
    "    poems = f.read()\n",
    "    \n",
    "\n",
    "text_list = [text['text'] for text in texts]\n",
    "authors_list = [text['author'] for text in texts]\n",
    "\n"
   ]
  },
  {
   "cell_type": "code",
   "execution_count": 8,
   "metadata": {},
   "outputs": [
    {
     "name": "stdout",
     "output_type": "stream",
     "text": [
      "Number of texts analyzed 4530\n",
      "Fernando Pessoa + 39 heteronyms:\n"
     ]
    }
   ],
   "source": [
    "print(f'Number of texts analyzed {len(text_list)}')\n",
    "print(f'Fernando Pessoa + {len(set(authors_list)) - 1} heteronyms:')\n",
    "#[print(authr) for authr in set(authors_list)]"
   ]
  },
  {
   "cell_type": "code",
   "execution_count": 11,
   "metadata": {},
   "outputs": [
    {
     "name": "stdout",
     "output_type": "stream",
     "text": [
      "characters in full_work: 6830545\n",
      "characters in poems: 1349346\n"
     ]
    }
   ],
   "source": [
    "print(f'characters in full_work: {len(full_work)}')\n",
    "print(f'characters in poems: {len(poems)}')"
   ]
  },
  {
   "cell_type": "code",
   "execution_count": null,
   "metadata": {},
   "outputs": [],
   "source": [
    "\n"
   ]
  },
  {
   "cell_type": "code",
   "execution_count": null,
   "metadata": {},
   "outputs": [],
   "source": []
  }
 ],
 "metadata": {
  "kernelspec": {
   "display_name": "Python 3",
   "language": "python",
   "name": "python3"
  },
  "language_info": {
   "codemirror_mode": {
    "name": "ipython",
    "version": 3
   },
   "file_extension": ".py",
   "mimetype": "text/x-python",
   "name": "python",
   "nbconvert_exporter": "python",
   "pygments_lexer": "ipython3",
   "version": "3.10.12"
  }
 },
 "nbformat": 4,
 "nbformat_minor": 2
}
