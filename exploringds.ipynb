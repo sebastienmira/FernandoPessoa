{
 "cells": [
  {
   "cell_type": "code",
   "execution_count": 2,
   "metadata": {},
   "outputs": [],
   "source": [
    "import json\n",
    "\n",
    "with open('texts.json', 'r') as data:\n",
    "    texts = json.load(data)"
   ]
  },
  {
   "cell_type": "code",
   "execution_count": 3,
   "metadata": {},
   "outputs": [],
   "source": [
    "text_list = []\n",
    "authors_list = []\n",
    "for text in texts:\n",
    "    text_list.append(text['text'])\n",
    "    authors_list.append(text['author']) "
   ]
  },
  {
   "cell_type": "code",
   "execution_count": 22,
   "metadata": {},
   "outputs": [
    {
     "name": "stdout",
     "output_type": "stream",
     "text": [
      "Number of texts analyzed 4530\n",
      "Fernando Pessoa + 39 heteronyms:\n",
      "Maria José\n",
      "David Merrick\n",
      "Gaudêncio Nabos\n",
      "Barão de Teive\n",
      "I. I. Crosse\n",
      "A. L. Caeiro e J. Caeiro\n",
      "Coelho Pacheco\n",
      "Bernardo Soares\n",
      "Alexander Search\n",
      "Ricardo Reis\n",
      "Henry More\n",
      "Carlos Otto\n",
      "Thomas Crosse\n",
      "Íbis\n",
      "Faustino Antunes\n",
      "Pantaleão\n",
      "Pero Botelho\n",
      "Wardour\n",
      "Vadooisf\n",
      "António Mora\n",
      "Professor Trochee\n",
      "Wardour + Pessoa\n",
      "Jean Seul\n",
      "Alberto Caeiro\n",
      "Dr. Pancrácio\n",
      "António de Seabra\n",
      "Joaquim Moura Costa\n",
      "Álvaro de Campos\n",
      "Charles Robert Anon\n",
      "Álvaro de Campos e Ricardo Reis\n",
      "J. H. Hyslop\n",
      "Luís António Congo\n",
      "Horace James Faber\n",
      "Frederico Reis\n",
      "Adolph Moscow\n",
      "A. de Campos e R. Reis\n",
      "Raphael Baldaya\n",
      "Fernando Pessoa\n",
      "Eduardo Lança\n",
      "Vicente Guedes\n"
     ]
    },
    {
     "data": {
      "text/plain": [
       "[None,\n",
       " None,\n",
       " None,\n",
       " None,\n",
       " None,\n",
       " None,\n",
       " None,\n",
       " None,\n",
       " None,\n",
       " None,\n",
       " None,\n",
       " None,\n",
       " None,\n",
       " None,\n",
       " None,\n",
       " None,\n",
       " None,\n",
       " None,\n",
       " None,\n",
       " None,\n",
       " None,\n",
       " None,\n",
       " None,\n",
       " None,\n",
       " None,\n",
       " None,\n",
       " None,\n",
       " None,\n",
       " None,\n",
       " None,\n",
       " None,\n",
       " None,\n",
       " None,\n",
       " None,\n",
       " None,\n",
       " None,\n",
       " None,\n",
       " None,\n",
       " None,\n",
       " None]"
      ]
     },
     "execution_count": 22,
     "metadata": {},
     "output_type": "execute_result"
    }
   ],
   "source": [
    "print(f'Number of texts analyzed {len(text_list)}')\n",
    "print(f'Fernando Pessoa + {len(set(authors_list)) - 1} heteronyms:')\n",
    "[print(authr) for authr in set(authors_list)]"
   ]
  },
  {
   "cell_type": "code",
   "execution_count": 21,
   "metadata": {},
   "outputs": [
    {
     "name": "stdout",
     "output_type": "stream",
     "text": [
      "6579221\n"
     ]
    }
   ],
   "source": [
    "print(len([letter for txt in text_list for letter in txt]))"
   ]
  },
  {
   "cell_type": "code",
   "execution_count": null,
   "metadata": {},
   "outputs": [
    {
     "name": "stdout",
     "output_type": "stream",
     "text": [
      "['Ricardo Reis', 'Diana através dos ramos\\n', '\\nDiana através dos ramos\\nEspreita a vinda de Endymion\\nEndymion que nunca vem,\\nEndymion, Endymion,\\nLá longe na floresta…\\nE a sua voz chamando\\nExclama através dos ramos\\nEndymion, Endymion…\\n\\nAssim choram os deuses…\\n']\n"
     ]
    }
   ],
   "source": [
    "catlist = ['author', 'title', 'text']\n",
    "print([''+texts[0][cat] for cat in catlist])"
   ]
  },
  {
   "cell_type": "code",
   "execution_count": null,
   "metadata": {},
   "outputs": [],
   "source": []
  }
 ],
 "metadata": {
  "kernelspec": {
   "display_name": "Python 3",
   "language": "python",
   "name": "python3"
  },
  "language_info": {
   "codemirror_mode": {
    "name": "ipython",
    "version": 3
   },
   "file_extension": ".py",
   "mimetype": "text/x-python",
   "name": "python",
   "nbconvert_exporter": "python",
   "pygments_lexer": "ipython3",
   "version": "3.10.12"
  }
 },
 "nbformat": 4,
 "nbformat_minor": 2
}
