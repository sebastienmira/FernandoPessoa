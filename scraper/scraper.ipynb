{
 "cells": [
  {
   "cell_type": "code",
   "execution_count": 6,
   "metadata": {},
   "outputs": [],
   "source": [
    "import requests\n",
    "from bs4 import BeautifulSoup\n",
    "import time\n",
    "import json\n"
   ]
  },
  {
   "cell_type": "code",
   "execution_count": 7,
   "metadata": {},
   "outputs": [],
   "source": [
    "def extract_data(page): #extracts author, title, text and type(prose or poen) from html. Returns a dictionary.\n",
    "    parser = BeautifulSoup(page.content, 'html.parser')\n",
    "\n",
    "    author = parser.find('div', class_='autor').text\n",
    "    title = parser.find('h1', class_='titulo-texto').text\n",
    "    \n",
    "    text_element = parser.find('div', class_='texto-poesia')\n",
    "    if text_element:\n",
    "        text = text_element.text\n",
    "        text_type = \"poem\"\n",
    "    else:\n",
    "        text = parser.find('div', class_='texto-prosa').text\n",
    "        text_type = \"prose\"\n",
    "\n",
    "\n",
    "    data = {\n",
    "        'author': author,\n",
    "        'title': title,\n",
    "        'text': text,\n",
    "        'text_type': text_type\n",
    "    }\n",
    "\n",
    "    return data"
   ]
  },
  {
   "cell_type": "code",
   "execution_count": 8,
   "metadata": {},
   "outputs": [
    {
     "name": "stdout",
     "output_type": "stream",
     "text": [
      "No 0 : Status 404\n",
      "No 1 : Status 404\n",
      "No 2 : Status 404\n",
      "No 3 : Status 404\n",
      "Extracting data from 4\n",
      "Extracting data from 5\n",
      "Extracting data from 6\n",
      "Extracting data from 7\n",
      "Extracting data from 8\n",
      "Extracting data from 9\n"
     ]
    }
   ],
   "source": [
    "data = [] #list to save the data\n",
    "\n",
    "i = 0\n",
    "while i < 10: #extracting loop\n",
    "    url = f'http://arquivopessoa.net/textos/{i}'\n",
    "    page = requests.get(url)\n",
    "    if page.status_code == 200:\n",
    "        print(f'Extracting data from {i}')\n",
    "        data.append(extract_data(page))\n",
    "        i += 1\n",
    "\n",
    "    elif page.status_code == 503: #if error accessing the page retries after t seconds.\n",
    "        t = 2\n",
    "        print(f'Error 503 retrying to fetch page {i} in {t} seconds')\n",
    "        time.sleep(t)\n",
    "        \n",
    "    else:\n",
    "        print(f'No {i} : Status {page.status_code}')\n",
    "        i += 1"
   ]
  },
  {
   "cell_type": "code",
   "execution_count": 9,
   "metadata": {},
   "outputs": [
    {
     "data": {
      "text/plain": [
       "[{'author': 'Ricardo Reis',\n",
       "  'title': 'Diana através dos ramos\\n',\n",
       "  'text': '\\nDiana através dos ramos\\nEspreita a vinda de Endymion\\nEndymion que nunca vem,\\nEndymion, Endymion,\\nLá longe na floresta…\\nE a sua voz chamando\\nExclama através dos ramos\\nEndymion, Endymion…\\n\\nAssim choram os deuses…\\n',\n",
       "  'text_type': 'poem'},\n",
       " {'author': 'Fernando Pessoa',\n",
       "  'title': 'A REFORMA DO CALENDÁRIO E AS SUAS CONSEQUÊNCIAS COMERCIAIS\\n',\n",
       "  'text': '\\nA REFORMA DO CALENDÁRIO E AS SUAS CONSEQUÊNCIAS COMERCIAIS\\n\\nA Comissão Especial de Inquérito à Reforma do Calendário, estabelecida pela Sociedade das Nações em 1924, acaba de publicar o seu Relatório.\\nA Comissão era composta do Prof. van Eysinga, da Universidade de Leyden (presidente); Rev. T.E.R. Philips, secretário da Real Sociedade Astronómica de Londres, nomeado pelo Arcebispo de Canterbury, chefe da Igreja Inglesa; Rev. P. Gianfranceschi, presidente da Academia dei Nuovi Lincei, nomeado pela Santa Sé; Prof. Eginitis, director do Observatório de Atenas, representando o Patriarca Ecuménico de Constantinopla; o Sr. Bigourden, antigo presidente da Comissão de Calendário da União Astronómica Internacional; e o Sr. Willis H. Booth, antigo presidente da Câmara Internacional de Comércio.\\nA comissão teve que examinar 185 projectos de Reforma do calendário actual, apresentadas por 33 países diferentes, dos 56 que pertencem à Sociedade das Nações. Responderam ao questionário detalhado, que se expediu aos 56 países e várias entidades religiosas e não religiosas em todo o mundo, 27 governos, 26 organizações internacionais (incluindo os variados comités nacionais da Câmara Internacional de Comércio), 18 administrações de caminhos-de-ferro, repartições de instrução pública de 23 países, e outras organizações que há menos interesse em citar.\\n\\nA origem deste inquérito, cujas consequências práticas e até comerciais convém não deixar de meditar, reside no carácter irregular e defeituoso do Calendário Gregoriano, que presentemente nos mede o tempo. Os defeitos evidentes e capitais do actual calendário são, na opinião da Comissão relatora, a desigualdade dos seus meses, trimestres e semestres, e a sua ausência de “fixidade”. Os meses variam, como toda a gente sabe, quanto ao número de dias de que se compõem, e que vão de 28 a 31, desordenadamente. Os trimestres compõem-se, em sua sequência dentro do ano, de 90 (91 em ano bissexto), 91, 92 e 92 dias. Isto, afirma a Comissão, é causa de confusão e de incerteza nas relações económicas, nas estatísticas, nas contas, nos dados que registam os movimentos de comércio e de tráfico. Também os cálculos de salários, de juros, de prémios de seguro, de pensões, alugueres e rendas, que se estabeleçam numa base mensal, trimestral ou semestral, resultam necessariamente erróneos, por isso que não correspondem propriamente a períodos de um duodécimo, de um quarto ou de metade do ano. Para fazer, com relativo acerto e rapidez, cálculos diários em contas-correntes, têm os bancos que servir-se de tabelas especiais. Além disso, a desigual composição dos meses tem levado as firmas financeiras, na maioria dos países europeus, a calcular as contas-depósito e correntes na base do ano de 12 meses e 30 dias, ou sejam, 360 dias, ao passo que no desconto de letras se conta o ano com o seu número exacto de dias. Todas estas circunstâncias assumem proporções quase trágicas no relatório da Comissão, e a tragédia aumenta quando se chega a considerar a falta de fixidez do calendário actual.\\nDevido à circunstância de que o calendário actual não é “fixo”, mas varia de ano para ano, a sua reprodução exacta dá-se apenas de 28 em 28 anos. Em virtude disto, não podem as datas de acontecimentos periódicos ser, em qualquer caso, claramente determinadas.\\nCada ano, exemplifica a Comissão, têm as instâncias oficiais que fazer um estudo especial para actos como a convocação do Parlamento (inglês), as datas de feriados, as de mercados e de feiras, ou a fixação da hora de “Verão” — tudo, como o leitor está vendo, de transcendente importância para o presente e o futuro da humanidade. Ora, se o calendário fosse “fixado”, as datas destes grandes acontecimentos ficariam também “fixadas”, duma vez para sempre. Finalmente — e é esta talvez a principal desvantagem do ponto de vista estatístico e comercial —, não é possível uma verdadeira comparação estatística entre as próprias subdivisões do ano — meses, trimestres, semestres.\\n\\nNa opinião da Comissão, «a atenção do público, de cuja aprovação tem que depender qualquer reforma do calendário, deve ser chamada exclusivamente (para que possa compreender as suas respectivas vantagens e desvantagens) sobre os princípios fundamentais de três principais sistemas de reforma».\\nO ano compõe-se de 52 semanas — ou sejam 364 dias —, mais 1 ou 2 dias a mais conforme o ano seja normal ou bissexto.\\nPor isso o problema primacial que, no ver da Comissão, confronta o reformador, é o que é que há-de fazer-se deste um dia, ou dois dias, a mais\\nOs “três principais sistemas de reforma”, a que a Comissão alude no excerto acima feito, foram assim resumidos oficiosamente com uma clareza que nos dispensa de tentar outro assunto:\\nPrimeiro sistema: Reforma simples. — O primeiro dos três principais sistemas de reforma escolhidos pela Comissão esforça-se por simplificar a reforma o mais possível e por causar a menor perturbação nos hábitos e costumes correntes, pelo processo de igualização de três dos quatro trimestres de que o ano se compõe.\\n»Assim, cada um dos primeiros trimestres do ano poderia compor-se de 91 dias, ou três meses de 30, 30 e 31 dias. O dia suplementar (o 365.º) seria acrescentado no quarto trimestre, que poderia pois compor-se de três meses de 30, 31, e 31 dias (32 em anos bissextos). Este nivelamento dos trimestres teria reais vantagens do ponto de vista das estatísticas trimestrais, das transacções da Bolsa, das contas bancárias e das médias meteorológicas. Acresce que se simplificariam bastante os cálculos para averiguar o dia da semana em que cai cada data. Assim, se o 1.º de Janeiro for domingo, o 1.º de Fevereiro será terça-feira, o 1.º de Março quinta-feira, e assim sucessivamente. Finalmente, esse sistema é o que menos altera a tradição. A questão, porém, é se as suas vantagens, que são menores que as dos outros dois sistemas, bastam para justificar a mudança.\\n»O segundo e terceiro sistemas principais, não só possuem todas as vantagens do primeiro sistema, quanto à igualização das divisões do ano, mas, além disso, estabelecem um calendário perpétuo e rectificam de todo o calendário presente. Este resultado obtém-se tornando o dia suplementar do ano (o 365.º) um dia em branco — isto é, pondo-o fora da semana, como, por exemplo, entre 31 de Dezembro e 1 de Janeiro. A introdução do dia em branco quebra, porém, a perpetuidade do ciclo das semanas, e levanta certas dificuldades de ordem religiosa, sobretudo nos meios judaicos.\\n»Segundo sistema: Reforma parciaL — Seria o ano dividido em quatro trimestres iguais de 91 dias, compondo-se cada trimestre de três meses de 30, 30 e 31 dias (exactamente como os três primeiros trimestres do primeiro sistema). O dia suplementar do ano (o 365.º) seria contado fora da semana. Poder-se-ia chamar-lhe Dia de Ano Novo, e fazê-lo preceder o dia 1 de Janeiro; e o outro dia no ano bissexto poderia, do mesmo modo, preceder o dia 1 de Julho e chamar-se Dia de Ano Bissexto.\\n»Por este processo são iguais todos os trimestres e semestres. Cada mês contém o mesmo número de dias úteis. Os meses, porém, não são iguais, nem contêm um número completo de semanas. Além disso, as datas não caem no mesmo dia da semana em cada mês, ao passo que a comparação estatística de datas futuras com datas passadas, sendo menos complicada que no sistema dos treze meses, é mais complicada que no primeiro sistema.\\n»Terceiro sistema: Reforma radical. — Os processos que pertencem a este sistema dividem o ano em 13 meses de 28 dias, ou 4 semanas certas, cada um, o que perfaz um total de 52 semanas, ou 364 dias. Sobra um dia (o 365.º), que fica fora da semana.\\n»Como no segundo sistema, este \"dia em branco\" poderia inserir-se entre o 28.º dia do 13.º mês e o 1.º dia do 1.º mês do ano seguinte, ou em qualquer outra altura.\\n»Este calendário seria perpétuo, pois os dias da semana cairiam nas mesmas datas em todos os meses. Quer dizer, se o 1.º de Janeiro for domingo, domingo será também o primeiro dia de todos os treze meses do ano. Todos os meses são iguais, e têm o mesmo número de semanas, de dias úteis e de domingos. Os períodos para os quais se calculam os salários correspondem exactamente aos períodos de despesa. Finalmente, o facto de que todos os meses são iguais tem grandes vantagens do ponto de vista das estatísticas mensais. Há, porém, a considerar que 13 não é divisível por 2, 3, 4 ou 6; que os “trimestres” do ano, ainda que iguais, não contêm o mesmo número de meses; e que a introdução de um ano de treze meses implica uma mudança considerável em costumes que datam de milhares de anos, e, em geral, seria preciso um número muito maior de rectificações estatísticas do que se se mantivesse o sistema dos doze meses.»\\nCabe aqui transcrever os próprios comentários da Comissão. Diz ela que:\\n«... geralmente falando, e considerando apenas o valor intrínseco dos dois últimos sistemas principais, o sistema dos treze meses parece de maior utilidade do ponto de vista da estatística e do comércio, logo que o mês, e não o trimestre, se torne a unidade na vida económica. No caso contrário, seria preferível o sistema dos doze meses. Com respeito à possibilidade da sua aplicação prática, a investigação preliminar mostra que os vários governos se inclinam mais para o sistema dos doze meses, que desarranjaria menos os hábitos estabelecidos. A maioria dos organismos comerciais parece ser da mesma opinião. Há, porém, um número crescente (caminhos-de-ferro ingleses e muitos organismos americanos) que parece favorecer o sistema dos treze meses, e especialmente para ele se inclinam os que usam já esse sistema como calendário auxiliar, e por isso estão habilitados a avaliar dos seus resultados.»\\n\\nNa segunda parte do seu relatório trata a Comissão de uma data fixa para o domingo de Páscoa, que presentemente oscila entre 22 de Março e 25 de Abril — um período que abrange 35 dias. Das respostas recebidas pela Comissão depreende-se que esta irregularidade afecta desfavoravelmente um certo número de indústrias, e notavelmente as do vestuário feminino e masculino, a de sapataria, e a indústria de turismo. Também se queixam algumas instituições pedagógicas que afecta bastante a regularidade do ano escolar.\\nÉ curioso notar que, segundo o relata a Comissão, nenhuma das grandes entidades religiosas mostrou repugnar-lhe, do ponto de vista dogmático, a fixação da data da Páscoa. A maioria das respostas recebidas dão a preferência ao segundo domingo de Abril. Concordando, em princípio, com esta fixação, a Comissão adverte, contudo, que o segundo domingo de Abril poderia cair no dia 8, e nesse caso a Festa da Anunciação (25 de Março) cairia no mesmo dia que o domingo de Pascoela.\\nPara evitar isto, propõe a Comissão que se fixe para domingo de Páscoa o domingo seguinte ao segundo sábado de Abril.\\n\\nNo fecho do seu relatório, dizem os peritos que formam a Comissão que tiveram «impressão nítida de que a opinião pública não estava preparada, mesmo onde acolhesse bem uma reforma, para sugerir uma reforma imediata num sentido determinado... A opinião esclarecida e organizada deveria, em cada país, analisar detidamente os princípios em que o problema assenta, e só assim se poderia escolher, quando chegar a ocasião, o mais conveniente de entre os vários sistemas. Deveria haver, especialmente, um novo exame, da parte das corporações religiosas que entre si se opõem, do princípio do \"dia em branco\"; uma discussão do assunto, em cada país, entre essas corporações e outras entidades interessadas na matéria; um exame por estatísticos e economistas da importância relativa da semana e do trimestre como unidades da vida económica, em oposição ao mês, para se estabelecer uma base para se determinar a escolha entre o ano de doze e o de treze meses; e uma definição das vantagens de uma reforma limitada».\\n«É também essencial», continua a Comissão, «que as investigações neste sentido [...] sejam coordenadas e organizadas em cada país numa base oficial ou semioficial. Uma organização desta espécie tornaria possível o formar-se, nos principais países, aquele corpo de união pública que presentemente ainda não existe, e sem o qual seria prematuro tentar estabelecer qualquer acordo internacional .»\\n',\n",
       "  'text_type': 'prose'},\n",
       " {'author': 'Fernando Pessoa',\n",
       "  'title': 'The Infinite is then the Possible\\n',\n",
       "  'text': '\\nThe Infinite is then the Possible.\\nHow does this possible realise itself? How is it realised?\\nIt is realised by numbers. But by how many numbers? By an infinite number of numbers (let the expression pass). The infinite then, in realising itself, realises itself as itself, by itself. In becoming other than itself it does but return to itself. (Cf. Hegel).\\nConsider, the 1 has nor power to produce the 2, neither cardinally nor ordinally; not cardinally because the 1 is less than the 2, nor ordinally because it supposes the 2.\\nThe infinite is Quantity (in-se). Now numbers are quantity but not quantity-in-se.\\nCardinally, the 1 cannot produce the 2, for it is smaller. Note (Let there no mistake. In our mind thinking of the 1 makes us think, by association, on the 2; but this is in our mind, this is mentally altogether).\\nIt is the 2 that might produce the 1 for it is greater and contains it. But it could not produce the 3, nor the 3 the 4 and so on without stopping. We mount higher and higher, in the scale of numbers without ever attaining, so long as we keep to numbers, the limit which we desire. So we are bound to conceive something taken to be as, by paradox, the highest possible number. (Notice the word «possible»). Now this «highest possible number» is manifestly no number, for a number has always a number greater than it is. So we are taken to something which will contain and produce all numbers without being, and by that reason not being a number. (We must have, this is to say, something which is neither a number nor not a number).\\nAgain what is the reason of the word «produce», which we have employed? How can the Infinite (quantity-in-se) produce numbers? Is it a force that it should originate anything ?\\nIt is by colour that we observe colours, that we know colours. We possess the idea of colour. It is in this way that we know colour.\\n',\n",
       "  'text_type': 'prose'},\n",
       " {'author': 'Ricardo Reis',\n",
       "  'title': 'Aqui, sem outro Apolo do que Apolo,\\n',\n",
       "  'text': '\\nAqui, sem outro Apolo do que Apolo,\\nSem um suspiro abandonemos Cristo\\n\\xa0\\xa0\\xa0\\xa0\\xa0\\xa0\\xa0\\xa0E a febre de buscarmos\\n\\xa0\\xa0\\xa0\\xa0\\xa0\\xa0\\xa0\\xa0Um deus dos dualismos.\\n\\nE longe da cristã sensualidade\\nQue a casta calma da beleza antiga\\n\\xa0\\xa0\\xa0\\xa0\\xa0\\xa0\\xa0\\xa0Nos restitua o antigo\\n\\xa0\\xa0\\xa0\\xa0\\xa0\\xa0\\xa0\\xa0Sentimento da vida.\\n',\n",
       "  'text_type': 'poem'},\n",
       " {'author': 'Fernando Pessoa',\n",
       "  'title': 'If evolution is to be universally true,\\n',\n",
       "  'text': '\\nIf evolution is to be universally true, itself it must evolute. But if it must evolute evolution is no longer universally true, for it changes, for it ceases to be evolution.\\nSince things are by nature numerical, i.e., plural, they cannot pertain to an infinite. The sum of things to things, of numbers to numbers cannot give the infinite for to give the infinite among the finite, is to introduce into a numeric sum something which is not a number.\\nIf infinite be a quantity (as some give us to understand when they say the infinite is «that which is greater than a conceivable number», «greater indicates quantity»), if this be so, the infinite when entering into a calculation in other quantities, possess the properties of a quantity, i.e. of dealing with different quantities of giving different results. But this is precisely what it does not. 2 ´ ¥, 100 ´ ¥, ten million by infinite give the same thing: infinite.\\nNo quantity can do this.\\n',\n",
       "  'text_type': 'prose'},\n",
       " {'author': 'Ricardo Reis',\n",
       "  'title': 'Em Ceres anoitece.\\n',\n",
       "  'text': '\\nEm Ceres anoitece.\\nNos píncaros ainda\\n\\xa0\\xa0\\xa0\\xa0\\xa0\\xa0\\xa0\\xa0Faz luz.\\n\\nSinto-me tão grande\\nNesta hora solene\\n\\xa0\\xa0\\xa0\\xa0\\xa0\\xa0\\xa0\\xa0E vã\\n\\nQue, assim como há deuses\\nDos campos, das flores\\n\\xa0\\xa0\\xa0\\xa0\\xa0\\xa0\\xa0\\xa0Das searas,\\n\\n\\nAgora eu quisera\\nQue um deus existisse\\n\\xa0\\xa0\\xa0\\xa0\\xa0\\xa0\\xa0\\xa0De mim.\\n',\n",
       "  'text_type': 'poem'}]"
      ]
     },
     "execution_count": 9,
     "metadata": {},
     "output_type": "execute_result"
    }
   ],
   "source": [
    "data"
   ]
  },
  {
   "cell_type": "code",
   "execution_count": 11,
   "metadata": {},
   "outputs": [],
   "source": [
    "with open('../texts.json', 'w') as texts: #writes data into a json file\n",
    "    json.dump(data, texts)\n"
   ]
  },
  {
   "cell_type": "code",
   "execution_count": null,
   "metadata": {},
   "outputs": [
    {
     "name": "stdout",
     "output_type": "stream",
     "text": [
      "\n",
      "Em Ceres anoitece.\n",
      "Nos píncaros ainda\n",
      "        Faz luz.\n",
      "\n",
      "Sinto-me tão grande\n",
      "Nesta hora solene\n",
      "        E vã\n",
      "\n",
      "Que, assim como há deuses\n",
      "Dos campos, das flores\n",
      "        Das searas,\n",
      "\n",
      "\n",
      "Agora eu quisera\n",
      "Que um deus existisse\n",
      "        De mim.\n",
      "\n"
     ]
    }
   ],
   "source": []
  },
  {
   "cell_type": "code",
   "execution_count": null,
   "metadata": {},
   "outputs": [],
   "source": []
  }
 ],
 "metadata": {
  "kernelspec": {
   "display_name": "Python 3",
   "language": "python",
   "name": "python3"
  },
  "language_info": {
   "codemirror_mode": {
    "name": "ipython",
    "version": 3
   },
   "file_extension": ".py",
   "mimetype": "text/x-python",
   "name": "python",
   "nbconvert_exporter": "python",
   "pygments_lexer": "ipython3",
   "version": "3.10.12"
  }
 },
 "nbformat": 4,
 "nbformat_minor": 2
}
